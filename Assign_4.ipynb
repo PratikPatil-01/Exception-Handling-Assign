{
 "cells": [
  {
   "cell_type": "markdown",
   "id": "e6b59fb3-f0ff-40cb-9936-678e33bb50d3",
   "metadata": {},
   "source": [
    "### 1)\n",
    "In Python, an exception is an error that occurs during the execution of a program. When an exceptional situation arises, an exception is raised, which interrupts the normal flow of the program and transfers control to a special block of code known as an exception handler. Exceptions provide a way to handle errors and exceptional cases gracefully, allowing the program to recover or terminate gracefully.\n",
    "The key differences between exceptions and syntax errors in Python:\n",
    "\n",
    "Cause: Exceptions occur during the execution of a program when an exceptional situation arises, while syntax errors occur when the code violates the language's syntax rules.\n",
    "\n",
    "Detection: Exceptions are detected at runtime when the exceptional situation occurs, while syntax errors are detected by the Python interpreter during the parsing phase before the program execution.\n",
    "\n",
    "Handling: Exceptions can be handled using try-except blocks, allowing you to catch and handle the exceptional situation gracefully. Syntax errors cannot be caught or handled using exception handling mechanisms because they prevent the program from running altogether."
   ]
  },
  {
   "cell_type": "markdown",
   "id": "9e429d11-98cb-45fb-a6cd-86ea6e4b4a24",
   "metadata": {},
   "source": [
    "### 5)\n",
    "Custom exceptions are created by defining a new class that inherits from the base Exception class or any of its subclasses. By creating custom exceptions, you can add more specific information or behavior to your exception handling, making it easier to understand and handle exceptional situations in your code."
   ]
  },
  {
   "cell_type": "code",
   "execution_count": 1,
   "id": "37b9f29a-503a-476d-bc64-5dd95e79ed82",
   "metadata": {},
   "outputs": [
    {
     "name": "stdout",
     "output_type": "stream",
     "text": [
      "Insufficient funds. Available balance: 1000. Required amount: 1500.\n"
     ]
    }
   ],
   "source": [
    "class InsufficientFundsError(Exception):\n",
    "    \"\"\"Exception raised for insufficient funds in an account.\"\"\"\n",
    "\n",
    "    def __init__(self, balance, amount):\n",
    "        self.balance = balance\n",
    "        self.amount = amount\n",
    "        message = f\"Insufficient funds. Available balance: {balance}. Required amount: {amount}.\"\n",
    "        super().__init__(message)\n",
    "\n",
    "\n",
    "class BankAccount:\n",
    "    def __init__(self, initial_balance):\n",
    "        self.balance = initial_balance\n",
    "\n",
    "    def withdraw(self, amount):\n",
    "        if amount > self.balance:\n",
    "            raise InsufficientFundsError(self.balance, amount)\n",
    "        self.balance -= amount\n",
    "\n",
    "\n",
    "account = BankAccount(1000)\n",
    "\n",
    "try:\n",
    "    account.withdraw(1500)\n",
    "except InsufficientFundsError as e:\n",
    "    print(e)\n"
   ]
  },
  {
   "cell_type": "code",
   "execution_count": null,
   "id": "1112d803-94f2-4dde-819d-1cef5fceed1d",
   "metadata": {},
   "outputs": [],
   "source": []
  }
 ],
 "metadata": {
  "kernelspec": {
   "display_name": "Python 3 (ipykernel)",
   "language": "python",
   "name": "python3"
  },
  "language_info": {
   "codemirror_mode": {
    "name": "ipython",
    "version": 3
   },
   "file_extension": ".py",
   "mimetype": "text/x-python",
   "name": "python",
   "nbconvert_exporter": "python",
   "pygments_lexer": "ipython3",
   "version": "3.10.8"
  }
 },
 "nbformat": 4,
 "nbformat_minor": 5
}
