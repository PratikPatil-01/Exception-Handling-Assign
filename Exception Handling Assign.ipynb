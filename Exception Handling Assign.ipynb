{
 "cells": [
  {
   "cell_type": "markdown",
   "id": "e6b59fb3-f0ff-40cb-9936-678e33bb50d3",
   "metadata": {},
   "source": [
    "1) \n",
    "In Python, an exception is an error that occurs during the execution of a program. When an exceptional situation arises, an exception is raised, which interrupts the normal flow of the program and transfers control to a special block of code known as an exception handler. Exceptions provide a way to handle errors and exceptional cases gracefully, allowing the program to recover or terminate gracefully.\n",
    "The key differences between exceptions and syntax errors in Python:\n",
    "\n",
    "Cause: Exceptions occur during the execution of a program when an exceptional situation arises, while syntax errors occur when the code violates the language's syntax rules.\n",
    "\n",
    "Detection: Exceptions are detected at runtime when the exceptional situation occurs, while syntax errors are detected by the Python interpreter during the parsing phase before the program execution.\n",
    "\n",
    "Handling: Exceptions can be handled using try-except blocks, allowing you to catch and handle the exceptional situation gracefully. Syntax errors cannot be caught or handled using exception handling mechanisms because they prevent the program from running altogether."
   ]
  },
  {
   "cell_type": "markdown",
   "id": "f531db8c-71c9-4ff2-9dfd-c600876757f1",
   "metadata": {},
   "source": [
    "2) \n",
    "When an exception is not handled in Python, it propagates up the call stack until it encounters an appropriate exception handler, or if none is found, it terminates the program and displays a traceback showing the exception type, message, and the line number where the exception occurred.\n",
    "\n",
    "Here's an example to illustrate this:"
   ]
  },
  {
   "cell_type": "code",
   "execution_count": 2,
   "id": "02e6d9f8-fb1c-43f4-b8ac-602c45a74905",
   "metadata": {},
   "outputs": [
    {
     "ename": "ZeroDivisionError",
     "evalue": "division by zero",
     "output_type": "error",
     "traceback": [
      "\u001b[0;31m---------------------------------------------------------------------------\u001b[0m",
      "\u001b[0;31mZeroDivisionError\u001b[0m                         Traceback (most recent call last)",
      "Cell \u001b[0;32mIn[2], line 2\u001b[0m\n\u001b[1;32m      1\u001b[0m \u001b[38;5;66;03m# Example: Division by zero exception not handled\u001b[39;00m\n\u001b[0;32m----> 2\u001b[0m result \u001b[38;5;241m=\u001b[39m \u001b[38;5;241;43m10\u001b[39;49m\u001b[43m \u001b[49m\u001b[38;5;241;43m/\u001b[39;49m\u001b[43m \u001b[49m\u001b[38;5;241;43m0\u001b[39;49m\n\u001b[1;32m      3\u001b[0m \u001b[38;5;28mprint\u001b[39m(\u001b[38;5;124m\"\u001b[39m\u001b[38;5;124mResult:\u001b[39m\u001b[38;5;124m\"\u001b[39m, result)\n",
      "\u001b[0;31mZeroDivisionError\u001b[0m: division by zero"
     ]
    }
   ],
   "source": [
    "# Example: Division by zero exception not handled\n",
    "result = 10 / 0\n",
    "print(\"Result:\", result)"
   ]
  },
  {
   "cell_type": "code",
   "execution_count": null,
   "id": "0080775c-88e7-4cb6-acd5-3650f9b65456",
   "metadata": {},
   "outputs": [],
   "source": []
  },
  {
   "cell_type": "markdown",
   "id": "14fe32cb-6ef5-4ac5-9bf6-40cb89906f4e",
   "metadata": {},
   "source": [
    "3) \n",
    "In Python, the \"try\", \"except\", \"else\", and \"finally\" statements are used together to catch and handle exceptions."
   ]
  },
  {
   "cell_type": "code",
   "execution_count": 3,
   "id": "47e21abb-d803-4272-9502-dbe35ba32acf",
   "metadata": {},
   "outputs": [
    {
     "name": "stdin",
     "output_type": "stream",
     "text": [
      "Enter a number:  44\n",
      "Enter another number:  66\n"
     ]
    },
    {
     "name": "stdout",
     "output_type": "stream",
     "text": [
      "Result: 0.6666666666666666\n",
      "Thank you for using the calculator.\n"
     ]
    }
   ],
   "source": [
    "try:\n",
    "    # Code block where exceptions may occur\n",
    "    num1 = int(input(\"Enter a number: \"))\n",
    "    num2 = int(input(\"Enter another number: \"))\n",
    "    result = num1 / num2\n",
    "except ValueError:\n",
    "    # Exception handler for ValueError (invalid input)\n",
    "    print(\"Error: Please enter valid numbers.\")\n",
    "except ZeroDivisionError:\n",
    "    # Exception handler for ZeroDivisionError (division by zero)\n",
    "    print(\"Error: Division by zero is not allowed.\")\n",
    "else:\n",
    "    # Code block executed if no exceptions occur\n",
    "    print(\"Result:\", result)\n",
    "finally:\n",
    "    # Cleanup code, always executed\n",
    "    print(\"Thank you for using the calculator.\")"
   ]
  },
  {
   "cell_type": "code",
   "execution_count": null,
   "id": "c542f7c9-9b02-4f55-9d89-cacce6164e14",
   "metadata": {},
   "outputs": [],
   "source": []
  },
  {
   "cell_type": "markdown",
   "id": "85b6a62b-1495-4284-a06e-45ecee9154d5",
   "metadata": {},
   "source": [
    "4) \n",
    "\n",
    "a) try: This statement defines a block of code in which exceptions may occur. It is followed by one or more except blocks to handle specific exceptions that may arise within the try block. else: This optional statement is executed if no exceptions occur in the try block. It's typically used to execute code that should run only if no exceptions were raised.\n",
    "\n",
    "b) finally: This optional statement defines a block of code that is always executed, regardless of whether an exception occurred or not. It's often used for cleanup actions, such as closing files or releasing resources.\n",
    "\n",
    "c) raise: This statement is used to explicitly raise an exception. You can use it within an exception handler to raise a different exception or to re-raise the same exception after performing some additional actions. This can be useful for customizing error messages, propagating exceptions, or adding context to the exception."
   ]
  },
  {
   "cell_type": "code",
   "execution_count": 4,
   "id": "a38f1202-f690-4963-be76-14214eb43f64",
   "metadata": {},
   "outputs": [
    {
     "name": "stdin",
     "output_type": "stream",
     "text": [
      "Enter a number:  5555\n",
      "Enter another number:  7777\n"
     ]
    },
    {
     "name": "stdout",
     "output_type": "stream",
     "text": [
      "Result: 0.7142857142857143\n"
     ]
    }
   ],
   "source": [
    "#a) \n",
    "try:\n",
    "    # Code block where exceptions may occur\n",
    "    num1 = int(input(\"Enter a number: \"))\n",
    "    num2 = int(input(\"Enter another number: \"))\n",
    "    result = num1 / num2\n",
    "except ValueError:\n",
    "    # Exception handler for ValueError (invalid input)\n",
    "    print(\"Error: Please enter valid numbers.\")\n",
    "except ZeroDivisionError:\n",
    "    # Exception handler for ZeroDivisionError (division by zero)\n",
    "    print(\"Error: Division by zero is not allowed.\")\n",
    "else:\n",
    "    # Code block executed if no exceptions occur\n",
    "    print(\"Result:\", result)"
   ]
  },
  {
   "cell_type": "code",
   "execution_count": 6,
   "id": "fc520eab-ad6e-4ffa-96d3-819ee4df4e4b",
   "metadata": {},
   "outputs": [
    {
     "name": "stdin",
     "output_type": "stream",
     "text": [
      "Enter a number:  55\n",
      "Enter another number:  66\n"
     ]
    },
    {
     "name": "stdout",
     "output_type": "stream",
     "text": [
      "Result: 0.8333333333333334\n",
      "Thank you for using the calculator.\n"
     ]
    }
   ],
   "source": [
    "#b)\n",
    "try:\n",
    "    # Code block where exceptions may occur\n",
    "    num1 = int(input(\"Enter a number: \"))\n",
    "    num2 = int(input(\"Enter another number: \"))\n",
    "    result = num1 / num2\n",
    "except ValueError:\n",
    "    # Exception handler for ValueError (invalid input)\n",
    "    print(\"Error: Please enter valid numbers.\")\n",
    "except ZeroDivisionError:\n",
    "    # Exception handler for ZeroDivisionError (division by zero)\n",
    "    print(\"Error: Division by zero is not allowed.\")\n",
    "else:\n",
    "    # Code block executed if no exceptions occur\n",
    "    print(\"Result:\", result)\n",
    "finally:\n",
    "    # Cleanup code, always executed\n",
    "    print(\"Thank you for using the calculator.\")"
   ]
  },
  {
   "cell_type": "code",
   "execution_count": 5,
   "id": "7034eefb-6f4d-494c-8a04-851db191498b",
   "metadata": {},
   "outputs": [
    {
     "name": "stdin",
     "output_type": "stream",
     "text": [
      "Enter a positive number:  -9\n"
     ]
    },
    {
     "name": "stdout",
     "output_type": "stream",
     "text": [
      "Error: Number must be positive\n"
     ]
    },
    {
     "ename": "ValueError",
     "evalue": "Number must be positive",
     "output_type": "error",
     "traceback": [
      "\u001b[0;31m---------------------------------------------------------------------------\u001b[0m",
      "\u001b[0;31mValueError\u001b[0m                                Traceback (most recent call last)",
      "Cell \u001b[0;32mIn[5], line 6\u001b[0m\n\u001b[1;32m      4\u001b[0m     num \u001b[38;5;241m=\u001b[39m \u001b[38;5;28mint\u001b[39m(\u001b[38;5;28minput\u001b[39m(\u001b[38;5;124m\"\u001b[39m\u001b[38;5;124mEnter a positive number: \u001b[39m\u001b[38;5;124m\"\u001b[39m))\n\u001b[1;32m      5\u001b[0m     \u001b[38;5;28;01mif\u001b[39;00m num \u001b[38;5;241m<\u001b[39m\u001b[38;5;241m=\u001b[39m \u001b[38;5;241m0\u001b[39m:\n\u001b[0;32m----> 6\u001b[0m         \u001b[38;5;28;01mraise\u001b[39;00m \u001b[38;5;167;01mValueError\u001b[39;00m(\u001b[38;5;124m\"\u001b[39m\u001b[38;5;124mNumber must be positive\u001b[39m\u001b[38;5;124m\"\u001b[39m)  \u001b[38;5;66;03m# Raise a ValueError if the number is not positive\u001b[39;00m\n\u001b[1;32m      7\u001b[0m \u001b[38;5;28;01mexcept\u001b[39;00m \u001b[38;5;167;01mValueError\u001b[39;00m \u001b[38;5;28;01mas\u001b[39;00m ve:\n\u001b[1;32m      8\u001b[0m     \u001b[38;5;66;03m# Exception handler for ValueError\u001b[39;00m\n\u001b[1;32m      9\u001b[0m     \u001b[38;5;28mprint\u001b[39m(\u001b[38;5;124m\"\u001b[39m\u001b[38;5;124mError:\u001b[39m\u001b[38;5;124m\"\u001b[39m, ve)\n",
      "\u001b[0;31mValueError\u001b[0m: Number must be positive"
     ]
    }
   ],
   "source": [
    "#c)\n",
    "try:\n",
    "    # Code block where exceptions may occur\n",
    "    num = int(input(\"Enter a positive number: \"))\n",
    "    if num <= 0:\n",
    "        raise ValueError(\"Number must be positive\")  # Raise a ValueError if the number is not positive\n",
    "except ValueError as ve:\n",
    "    # Exception handler for ValueError\n",
    "    print(\"Error:\", ve)\n",
    "    raise  # Re-raise the same exception after printing the error message"
   ]
  },
  {
   "cell_type": "code",
   "execution_count": null,
   "id": "71f9ea95-f3cc-4cd9-9ccd-36dbdb2bcac5",
   "metadata": {},
   "outputs": [],
   "source": []
  },
  {
   "cell_type": "markdown",
   "id": "9e429d11-98cb-45fb-a6cd-86ea6e4b4a24",
   "metadata": {},
   "source": [
    "5) \n",
    "&\n",
    "6) \n",
    "Custom exceptions are created by defining a new class that inherits from the base Exception class or any of its subclasses. By creating custom exceptions, you can add more specific information or behavior to your exception handling, making it easier to understand and handle exceptional situations in your code."
   ]
  },
  {
   "cell_type": "code",
   "execution_count": 1,
   "id": "37b9f29a-503a-476d-bc64-5dd95e79ed82",
   "metadata": {},
   "outputs": [
    {
     "name": "stdout",
     "output_type": "stream",
     "text": [
      "Insufficient funds. Available balance: 1000. Required amount: 1500.\n"
     ]
    }
   ],
   "source": [
    "class InsufficientFundsError(Exception):\n",
    "    \"\"\"Exception raised for insufficient funds in an account.\"\"\"\n",
    "\n",
    "    def __init__(self, balance, amount):\n",
    "        self.balance = balance\n",
    "        self.amount = amount\n",
    "        message = f\"Insufficient funds. Available balance: {balance}. Required amount: {amount}.\"\n",
    "        super().__init__(message)\n",
    "\n",
    "\n",
    "class BankAccount:\n",
    "    def __init__(self, initial_balance):\n",
    "        self.balance = initial_balance\n",
    "\n",
    "    def withdraw(self, amount):\n",
    "        if amount > self.balance:\n",
    "            raise InsufficientFundsError(self.balance, amount)\n",
    "        self.balance -= amount\n",
    "\n",
    "\n",
    "account = BankAccount(1000)\n",
    "\n",
    "try:\n",
    "    account.withdraw(1500)\n",
    "except InsufficientFundsError as e:\n",
    "    print(e)\n"
   ]
  }
 ],
 "metadata": {
  "kernelspec": {
   "display_name": "Python 3 (ipykernel)",
   "language": "python",
   "name": "python3"
  },
  "language_info": {
   "codemirror_mode": {
    "name": "ipython",
    "version": 3
   },
   "file_extension": ".py",
   "mimetype": "text/x-python",
   "name": "python",
   "nbconvert_exporter": "python",
   "pygments_lexer": "ipython3",
   "version": "3.10.8"
  }
 },
 "nbformat": 4,
 "nbformat_minor": 5
}
